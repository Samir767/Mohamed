{
 "cells": [
  {
   "cell_type": "markdown",
   "id": "b6def25c",
   "metadata": {},
   "source": [
    "## Program for solving the two lenses optical system equations for beam expander to LWAFA \n",
    "where s_01 = distance object and first lens,  \n",
    "      s_11 = distance between second length and image,        \n",
    "       d = distance between the two lenses, \n",
    "       \n",
    "       F1, F2, M are the focal lenth for 1st lens, the second focal lenth for 2nd lens and the magnification factor"
   ]
  },
  {
   "cell_type": "code",
   "execution_count": null,
   "id": "9df4c09d",
   "metadata": {},
   "outputs": [],
   "source": [
    "# Giving the known values \n",
    "f1=10\n",
    "f2=12.5\n",
    "M=2\n",
    "\n",
    "# importing library sympy \n",
    "from sympy import symbols, Eq, solve \n",
    "\n",
    "  \n",
    "# defining equations \n",
    "eq1 = Eq((s01 + d + si2),(200)) \n",
    "print(\"Equation 1:\") \n",
    "print(eq1) \n",
    "  \n",
    "eq2 = Eq((M), (f1*si2)/(d*(s01 - f1)-(s01*f1))) \n",
    "print(\"Equation 2\") \n",
    "print(eq2) \n",
    "  \n",
    "eq3 = Eq((si2 ), (f2*d - (f2*s01*f1)/(s01 -f1))/(d - f2-(s01*f1)/(s01-f1))) \n",
    "print(\"Equation 3\") \n",
    "print(eq3)\n",
    "\n",
    "# solving the equation and printing the  \n",
    "# value of unknown variables \n",
    "print(\"Values of 3 unknown variable are as follows:\") \n",
    "print(solve((eq1, eq2, eq3), (s01,si2, d))) "
   ]
  }
 ],
 "metadata": {
  "kernelspec": {
   "display_name": "Python 3 (ipykernel)",
   "language": "python",
   "name": "python3"
  },
  "language_info": {
   "codemirror_mode": {
    "name": "ipython",
    "version": 3
   },
   "file_extension": ".py",
   "mimetype": "text/x-python",
   "name": "python",
   "nbconvert_exporter": "python",
   "pygments_lexer": "ipython3",
   "version": "3.11.5"
  }
 },
 "nbformat": 4,
 "nbformat_minor": 5
}
